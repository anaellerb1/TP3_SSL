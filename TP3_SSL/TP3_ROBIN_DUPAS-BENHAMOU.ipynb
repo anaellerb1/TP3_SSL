{
 "cells": [
  {
   "cell_type": "markdown",
   "metadata": {},
   "source": [
    "                1 Analyse spectrale de signaux de base\n",
    "        1.1 Outils de lecture des fichiers et d’écoute des signaux sous Python"
   ]
  },
  {
   "cell_type": "code",
   "execution_count": 1,
   "metadata": {},
   "outputs": [
    {
     "ename": "SyntaxError",
     "evalue": "invalid character '‘' (U+2018) (3306108794.py, line 2)",
     "output_type": "error",
     "traceback": [
      "\u001b[0;36m  Cell \u001b[0;32mIn[1], line 2\u001b[0;36m\u001b[0m\n\u001b[0;31m    x,Fe = audioread(‘nomfichier.wav’, False)\u001b[0m\n\u001b[0m                     ^\u001b[0m\n\u001b[0;31mSyntaxError\u001b[0m\u001b[0;31m:\u001b[0m invalid character '‘' (U+2018)\n"
     ]
    }
   ],
   "source": [
    "# Lire sans écouter le signal\n",
    "x,Fe = audioread(‘nomfichier.wav’, False)\n",
    "# Lire et écouter le signal\n",
    "x,Fe = audioread(‘nomfichier.wav’, True)"
   ]
  },
  {
   "cell_type": "markdown",
   "metadata": {},
   "source": [
    "    1.2 Analyse spectrale des signaux de base"
   ]
  },
  {
   "cell_type": "code",
   "execution_count": null,
   "metadata": {},
   "outputs": [],
   "source": [
    "import pandas as pd\n",
    "import plotly.express as px\n",
    "\n",
    "# Données du signal\n",
    "\n",
    "t,Fe = audioread(‘nomfichier.wav’, False)\n",
    "df = pd.DataFrame({'Temps':t,'Signal':x})\n",
    "\n",
    "\n",
    "\n",
    "#affichage du signal\n",
    "\n",
    "fig = px.line(x=t, y=x, title='Signal audio')\n",
    "fig.show()"
   ]
  }
 ],
 "metadata": {
  "kernelspec": {
   "display_name": "env_msi",
   "language": "python",
   "name": "python3"
  },
  "language_info": {
   "codemirror_mode": {
    "name": "ipython",
    "version": 3
   },
   "file_extension": ".py",
   "mimetype": "text/x-python",
   "name": "python",
   "nbconvert_exporter": "python",
   "pygments_lexer": "ipython3",
   "version": "3.12.6"
  }
 },
 "nbformat": 4,
 "nbformat_minor": 2
}
