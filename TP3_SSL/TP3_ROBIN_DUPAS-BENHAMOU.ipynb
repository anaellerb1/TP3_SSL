{
 "cells": [
  {
   "cell_type": "markdown",
   "metadata": {},
   "source": [
    "                1 Analyse spectrale de signaux de base\n",
    "        1.1 Outils de lecture des fichiers et d’écoute des signaux sous Python"
   ]
  },
  {
   "cell_type": "code",
   "execution_count": null,
   "metadata": {},
   "outputs": [],
   "source": [
    "# Lire sans écouter le signal\n",
    "x,Fe = audioread(‘nomfichier.wav’, False)\n",
    "# Lire et écouter le signal\n",
    "x,Fe = audioread(‘nomfichier.wav’, True)"
   ]
  },
  {
   "cell_type": "markdown",
   "metadata": {},
   "source": [
    "    1.2 Analyse spectrale des signaux de base"
   ]
  },
  {
   "cell_type": "code",
   "execution_count": null,
   "metadata": {},
   "outputs": [],
   "source": [
    "import pandas as pd\n",
    "import plotly.express as px\n",
    "\n",
    "# Données du signal\n",
    "\n",
    "t,Fe = audioread(‘nomfichier.wav’, False)\n",
    "df = pd.DataFrame({'Temps':t,'Signal':x})\n",
    "\n",
    "\n",
    "\n",
    "#affichage du signal\n",
    "\n",
    "fig = px.line(x=t, y=x, title='Signal audio')\n",
    "fig.show()"
   ]
  }
 ],
 "metadata": {
  "kernelspec": {
   "display_name": ".venv",
   "language": "python",
   "name": "python3"
  },
  "language_info": {
   "name": "python",
   "version": "3.11.9"
  }
 },
 "nbformat": 4,
 "nbformat_minor": 2
}
